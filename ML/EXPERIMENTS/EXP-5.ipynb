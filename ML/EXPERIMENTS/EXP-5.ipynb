{
 "cells": [
  {
   "cell_type": "code",
   "execution_count": null,
   "id": "a774a0f1",
   "metadata": {},
   "outputs": [
    {
     "ename": "",
     "evalue": "",
     "output_type": "error",
     "traceback": [
      "\u001b[1;31mThe kernel failed to start due to the missing module 'stack_data'. Consider installing this module.\n",
      "\u001b[1;31mClick <a href='https://aka.ms/kernelFailuresMissingModule'>here</a> for more info."
     ]
    }
   ],
   "source": [
    "import numpy as np\n",
    "import matplotlib.pyplot as plt\n",
    "# Initialize inputs\n",
    "x1 = 0\n",
    "x2 = 1\n",
    "# weights and biases of output layer\n",
    "w31 = 0.4\n",
    "w32 = 0.1\n",
    "b3 = -0.2\n",
    "# weights and biases of hidden layer\n",
    "w11 = 0.6\n",
    "w21 = -0.1\n",
    "w12 = -0.3\n",
    "w22 = 0.4\n",
    "b1 = 0.3\n",
    "b2 = 0.5\n",
    "\n",
    "errors = []\n",
    "\n",
    "# Define cost_function_sigmoid activation function\n",
    "def cost_function_sigmoid(x : int):\n",
    "    return 1 / (1 + np.exp(-x))\n",
    "\n",
    "# Number of epochs\n",
    "epochs = 800\n",
    "for epoch in range(epochs):\n",
    "    # Forward pass\n",
    "    z1_in = x1 * w11 + x2 * w21 + b1\n",
    "    z1 = cost_function_sigmoid(z1_in)\n",
    "\n",
    "    z2_in = x1 * w12 + x2 * w22 + b2\n",
    "    z2 = cost_function_sigmoid(z2_in)\n",
    "\n",
    "    y_in = z1 * w31 + z2 * w32 + b3\n",
    "    y = cost_function_sigmoid(y_in)\n",
    "\n",
    "    # Calculaing error\n",
    "    # Assuming a target value = 1\n",
    "    target = 1  \n",
    "    error_y = (target - y)\n",
    "    errors.append(error_y)\n",
    "    \n",
    "    # Backward pass\n",
    "    delta_y = y * (1 - y) * (target - y)\n",
    "    delta_z1 = z1 * (1 - z1) * w31 * delta_y\n",
    "    delta_z2 = z2 * (1 - z2) * w32 * delta_y\n",
    "    \n",
    "    # Assuming learning rate (alpha)= 1\n",
    "    alpha = 1\n",
    "    \n",
    "    # Update weights for output layer\n",
    "    w31 += alpha * z1 * delta_y\n",
    "    w32 += alpha * z2 * delta_y\n",
    "    # Update weights for hidden layer\n",
    "    w11 += alpha * x1 * delta_z1\n",
    "    w21 += alpha * x2 * delta_z1\n",
    "    w12 += alpha * x1 * delta_z2\n",
    "    w22 += alpha * x2 * delta_z2\n",
    "\n",
    "    print(f\"Current Epoch {epoch + 1}:\")\n",
    "    print(\"Forward pass:\")\n",
    "    print(f\"Hidden layer: = {z1:.4f}, z2 = {z2:.4f}\")\n",
    "    print(f\"Error: {error_y:.4f}\")\n",
    "    print(\"Updated weights after Backward pass:\")\n",
    "    print(f\"w31 = {w31:.4f}\")\n",
    "    print(f\"w32 = {w32:.4f}\")\n",
    "    print(f\"w11 = {w11:.4f}\")\n",
    "    print(f\"w21 = {w21:.4f}\")\n",
    "    print(f\"w12 = {w12:.4f}\")\n",
    "    print(f\"w22 = {w22:.4f}\\n\")\n",
    "    print(f\"Output: y = {y:.4f}\")"
   ]
  },
  {
   "cell_type": "code",
   "execution_count": 2,
   "id": "3e8c7e69",
   "metadata": {},
   "outputs": [
    {
     "data": {
      "image/png": "[encoded data removed]",
      "text/plain": [
       "<Figure size 640x480 with 1 Axes>"
      ]
     },
     "metadata": {},
     "output_type": "display_data"
    }
   ],
   "source": [
    "plt.plot(range(1, epochs + 1), errors)\n",
    "plt.xlabel('Epoch')\n",
    "plt.ylabel('Error')\n",
    "plt.title('Graph of Error vs. Epochs')\n",
    "plt.show()"
   ]
  }
 ],
 "metadata": {
  "kernelspec": {
   "display_name": "Python 3 (ipykernel)",
   "language": "python",
   "name": "python3"
  },
  "language_info": {
   "codemirror_mode": {
    "name": "ipython",
    "version": 3
   },
   "file_extension": ".py",
   "mimetype": "text/x-python",
   "name": "python",
   "nbconvert_exporter": "python",
   "pygments_lexer": "ipython3",
   "version": "3.10.4"
  }
 },
 "nbformat": 4,
 "nbformat_minor": 5
}
